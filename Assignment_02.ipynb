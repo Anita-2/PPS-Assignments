{
  "nbformat": 4,
  "nbformat_minor": 0,
  "metadata": {
    "colab": {
      "name": "Assignment-02.ipynb",
      "provenance": [],
      "collapsed_sections": []
    },
    "kernelspec": {
      "name": "python3",
      "display_name": "Python 3"
    },
    "language_info": {
      "name": "python"
    }
  },
  "cells": [
    {
      "cell_type": "markdown",
      "source": [
        "#Assignment-02\n",
        "To calculate salary of an employee given his basic pay (take as input from user).\n",
        "Calculate salary of employee. Let HRA be 10 % of basic pay and TA be 5% of\n",
        "basic pay. Let employee pay professional tax as 2% of total salary. Calculate\n",
        "salary payable after deductions. "
      ],
      "metadata": {
        "id": "k8_FCeNcLI6J"
      }
    },
    {
      "cell_type": "code",
      "source": [
        "basic_salary=input('Enter your Basic Salary of an employee')    #Accepting Basic salary(input) from user\n",
        "basic_salary = float(basic_salary)                  #converting into float\n",
        "if basic_salary<0:                                   #checking condition whether input is valid or not\n",
        "  print(\"Basic salary can't be negative.....Invalid Input\")   # basic salary cannot be less than 0\n",
        "HRA = basic_salary*0.1    # HRA is 10 % of basic salary\n",
        "TA = basic_salary*0.05    # TA is 5 % of basic salary\n",
        "gross_salary = basic_salary + HRA + TA   \n",
        "professional_tax = gross_salary*0.02 # professional tax is 2 % of gross salary\n",
        "salary_payable = gross_salary - professional_tax\n",
        "print(\"*********Salary Sheet of an employee***********\")\n",
        "print(\"HRA=\",HRA)\n",
        "print(\"TA=\",TA)\n",
        "print(\"Gross Salary=\",gross_salary)\n",
        "print(\"Professional Tax is\",professional_tax)  \n",
        "print(\"Salary Payable is\",salary_payable)  \n",
        " "
      ],
      "metadata": {
        "colab": {
          "base_uri": "https://localhost:8080/"
        },
        "id": "l8qeIpWIK2kE",
        "outputId": "dcc3f0bb-f334-491c-b159-dd52530d6c08"
      },
      "execution_count": 9,
      "outputs": [
        {
          "output_type": "stream",
          "name": "stdout",
          "text": [
            "Enter your Basic Salary of an employee15600\n",
            "*********Salary Sheet of an employee***********\n",
            "HRA= 1560.0\n",
            "TA= 780.0\n",
            "Gross Salary= 17940.0\n",
            "Professional Tax is 358.8\n",
            "Salary Payable is 17581.2\n"
          ]
        }
      ]
    },
    {
      "cell_type": "code",
      "source": [
        ""
      ],
      "metadata": {
        "id": "84Y8Qvg_e3yQ"
      },
      "execution_count": null,
      "outputs": []
    },
    {
      "cell_type": "code",
      "source": [
        ""
      ],
      "metadata": {
        "id": "SDfZKvbGNHIp"
      },
      "execution_count": null,
      "outputs": []
    },
    {
      "cell_type": "code",
      "source": [
        ""
      ],
      "metadata": {
        "id": "4HFJmwgpNCKo"
      },
      "execution_count": null,
      "outputs": []
    },
    {
      "cell_type": "code",
      "source": [
        ""
      ],
      "metadata": {
        "id": "-NLyizlbM2l4"
      },
      "execution_count": null,
      "outputs": []
    },
    {
      "cell_type": "code",
      "source": [
        ""
      ],
      "metadata": {
        "id": "tRr77pGiMySY"
      },
      "execution_count": null,
      "outputs": []
    },
    {
      "cell_type": "code",
      "source": [
        ""
      ],
      "metadata": {
        "id": "-dFnLr3aMYnY"
      },
      "execution_count": null,
      "outputs": []
    },
    {
      "cell_type": "code",
      "source": [
        ""
      ],
      "metadata": {
        "id": "V67a6Mr8MWYK"
      },
      "execution_count": null,
      "outputs": []
    },
    {
      "cell_type": "code",
      "source": [
        ""
      ],
      "metadata": {
        "id": "nVN64sNcLOfp"
      },
      "execution_count": null,
      "outputs": []
    }
  ]
}