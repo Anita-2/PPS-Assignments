{
  "nbformat": 4,
  "nbformat_minor": 0,
  "metadata": {
    "colab": {
      "name": "Assignment-01.ipynb",
      "provenance": [],
      "collapsed_sections": []
    },
    "kernelspec": {
      "name": "python3",
      "display_name": "Python 3"
    },
    "language_info": {
      "name": "python"
    }
  },
  "cells": [
    {
      "cell_type": "markdown",
      "source": [
        "#Assignment-01\n",
        "Give the values of the variables x,y and z, Write a program to rotate their values\n",
        "such that x has the value of y, y has the value of z and z has the value of x"
      ],
      "metadata": {
        "id": "L_S0lBSSJgIy"
      }
    },
    {
      "cell_type": "code",
      "source": [
        "x=int(input('Enter the value of x'))\n",
        "y=int(input('Enter the value of y'))\n",
        "z=int (input('Enter the value of z'))\n",
        "print('Values before swapping')\n",
        "print(x)\n",
        "print(y)\n",
        "print(z)\n",
        "temp=x\n",
        "x=y\n",
        "y=z\n",
        "z=temp\n",
        "print(\"Values after swapping\")\n",
        "print(x)\n",
        "print(y)\n",
        "print(z)"
      ],
      "metadata": {
        "colab": {
          "base_uri": "https://localhost:8080/"
        },
        "id": "Q554KVVnJhS5",
        "outputId": "79d7c1fe-bbef-4a74-f6a1-3a69be81c956"
      },
      "execution_count": 1,
      "outputs": [
        {
          "output_type": "stream",
          "name": "stdout",
          "text": [
            "Enter the value of x6\n",
            "Enter the value of y4\n",
            "Enter the value of z9\n",
            "Values before swapping\n",
            "6\n",
            "4\n",
            "9\n",
            "Values after swapping\n",
            "4\n",
            "9\n",
            "6\n"
          ]
        }
      ]
    },
    {
      "cell_type": "code",
      "source": [
        ""
      ],
      "metadata": {
        "id": "R8k89ivTJko5"
      },
      "execution_count": null,
      "outputs": []
    }
  ]
}