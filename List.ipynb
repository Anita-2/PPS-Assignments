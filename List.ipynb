{
  "cells": [
    {
      "cell_type": "markdown",
      "metadata": {
        "id": "bN19Tk-TdGLy"
      },
      "source": [
        "\n",
        "# List- Sequence of elements enclosed in [] (Data structure)\n",
        "List is mutable"
      ]
    },
    {
      "cell_type": "code",
      "execution_count": 1,
      "metadata": {
        "colab": {
          "base_uri": "https://localhost:8080/"
        },
        "id": "Dzx3xpUYdGL3",
        "outputId": "ad73a397-3e76-43d8-c067-7c77789d31a7"
      },
      "outputs": [
        {
          "output_type": "execute_result",
          "data": {
            "text/plain": [
              "list"
            ]
          },
          "metadata": {},
          "execution_count": 1
        }
      ],
      "source": [
        "a=[1,2,3,4,5,7]\n",
        "type(a)\n"
      ]
    },
    {
      "cell_type": "code",
      "execution_count": 2,
      "metadata": {
        "colab": {
          "base_uri": "https://localhost:8080/"
        },
        "id": "Ucvo58dPdGL4",
        "outputId": "783a26fd-4eed-4db5-a1d5-dbef5dad193c"
      },
      "outputs": [
        {
          "output_type": "execute_result",
          "data": {
            "text/plain": [
              "1"
            ]
          },
          "metadata": {},
          "execution_count": 2
        }
      ],
      "source": [
        "a[0]"
      ]
    },
    {
      "cell_type": "code",
      "execution_count": 3,
      "metadata": {
        "colab": {
          "base_uri": "https://localhost:8080/"
        },
        "id": "8-CdUwrXdGL5",
        "outputId": "22d82d13-00a0-4c61-d0a6-b075c926f31e"
      },
      "outputs": [
        {
          "output_type": "execute_result",
          "data": {
            "text/plain": [
              "4"
            ]
          },
          "metadata": {},
          "execution_count": 3
        }
      ],
      "source": [
        "a[3]"
      ]
    },
    {
      "cell_type": "code",
      "execution_count": 4,
      "metadata": {
        "colab": {
          "base_uri": "https://localhost:8080/"
        },
        "id": "OzOXqt4edGL5",
        "outputId": "f19a0eb6-bbc7-4a20-af0f-0ace2e4f8140"
      },
      "outputs": [
        {
          "output_type": "execute_result",
          "data": {
            "text/plain": [
              "7"
            ]
          },
          "metadata": {},
          "execution_count": 4
        }
      ],
      "source": [
        "a[-1]"
      ]
    },
    {
      "cell_type": "code",
      "execution_count": 5,
      "metadata": {
        "colab": {
          "base_uri": "https://localhost:8080/"
        },
        "id": "R3tU2VgydGL6",
        "outputId": "47e5933f-bb1e-4f0b-d0e1-d7991a97b387"
      },
      "outputs": [
        {
          "output_type": "execute_result",
          "data": {
            "text/plain": [
              "[7, 5, 4, 3, 2, 1]"
            ]
          },
          "metadata": {},
          "execution_count": 5
        }
      ],
      "source": [
        "a[::-1]   #reversing list"
      ]
    },
    {
      "cell_type": "code",
      "execution_count": null,
      "metadata": {
        "id": "q1sLbc7NdGL6"
      },
      "outputs": [],
      "source": [
        "my_list1=[10,20,30,40,50]"
      ]
    },
    {
      "cell_type": "code",
      "execution_count": null,
      "metadata": {
        "id": "h4f70WiDdGL7",
        "outputId": "b95fdedc-a444-4c33-f760-8d904f966897"
      },
      "outputs": [
        {
          "data": {
            "text/plain": [
              "[30, 40]"
            ]
          },
          "execution_count": 7,
          "metadata": {},
          "output_type": "execute_result"
        }
      ],
      "source": [
        "my_list1[2:4]    #2 is starting index and 4 is stop index"
      ]
    },
    {
      "cell_type": "code",
      "execution_count": null,
      "metadata": {
        "id": "5V7HEXEPdGL8"
      },
      "outputs": [],
      "source": [
        "my_list2=[10,20,30,\"Hello\",'bye',500]"
      ]
    },
    {
      "cell_type": "code",
      "execution_count": null,
      "metadata": {
        "id": "bJzhQLZpdGL8",
        "outputId": "98ed9fd3-4235-47c0-c681-6f9c54f7f42f"
      },
      "outputs": [
        {
          "data": {
            "text/plain": [
              "[10, 20, 30, 'Hello', 'bye', 500]"
            ]
          },
          "execution_count": 9,
          "metadata": {},
          "output_type": "execute_result"
        }
      ],
      "source": [
        "my_list2"
      ]
    },
    {
      "cell_type": "code",
      "execution_count": null,
      "metadata": {
        "id": "yVZAZdUkdGL9",
        "outputId": "c86abaa8-5d5a-4b79-a62f-0fcb3d690052"
      },
      "outputs": [
        {
          "data": {
            "text/plain": [
              "'Hello'"
            ]
          },
          "execution_count": 10,
          "metadata": {},
          "output_type": "execute_result"
        }
      ],
      "source": [
        "my_list2[3]     #retrieve 'Hello' from list"
      ]
    },
    {
      "cell_type": "code",
      "execution_count": null,
      "metadata": {
        "id": "1PYZwM7ZdGL9",
        "outputId": "d1de3440-b1a8-475f-e3a7-fac373c6e2f3"
      },
      "outputs": [
        {
          "data": {
            "text/plain": [
              "'ell'"
            ]
          },
          "execution_count": 11,
          "metadata": {},
          "output_type": "execute_result"
        }
      ],
      "source": [
        "my_list2[3][1:4]"
      ]
    },
    {
      "cell_type": "code",
      "execution_count": null,
      "metadata": {
        "id": "G8rldOuQdGL9",
        "outputId": "25ac0826-45b3-45ff-e9eb-3437d6bcbdf7"
      },
      "outputs": [
        {
          "name": "stdout",
          "output_type": "stream",
          "text": [
            "ell\n"
          ]
        }
      ],
      "source": [
        "print(my_list2[3][1:4])"
      ]
    },
    {
      "cell_type": "code",
      "execution_count": null,
      "metadata": {
        "id": "Yk7mOCs_dGL-",
        "outputId": "7c23c26c-a7b8-4d27-fa57-256fb52d054c"
      },
      "outputs": [
        {
          "data": {
            "text/plain": [
              "'e'"
            ]
          },
          "execution_count": 13,
          "metadata": {},
          "output_type": "execute_result"
        }
      ],
      "source": [
        "my_list2[3][1:4][0]"
      ]
    },
    {
      "cell_type": "code",
      "execution_count": null,
      "metadata": {
        "id": "zeWlEnludGL-",
        "outputId": "b8946ca2-4bd8-41ae-cbc6-9e762c72d22d"
      },
      "outputs": [
        {
          "data": {
            "text/plain": [
              "'olleH'"
            ]
          },
          "execution_count": 14,
          "metadata": {},
          "output_type": "execute_result"
        }
      ],
      "source": [
        "my_list2[3][::-1]"
      ]
    },
    {
      "cell_type": "code",
      "execution_count": null,
      "metadata": {
        "id": "BxZb5hSvdGL-"
      },
      "outputs": [],
      "source": [
        "my_list2.append(\"Anita\")"
      ]
    },
    {
      "cell_type": "code",
      "execution_count": null,
      "metadata": {
        "id": "LR7lGIl0dGL_",
        "outputId": "df1af0d0-4462-477b-a44d-4605ce5c2776"
      },
      "outputs": [
        {
          "data": {
            "text/plain": [
              "[10, 20, 30, 'Hello', 'bye', 500, 'Anita']"
            ]
          },
          "execution_count": 16,
          "metadata": {},
          "output_type": "execute_result"
        }
      ],
      "source": [
        "my_list2"
      ]
    },
    {
      "cell_type": "code",
      "execution_count": null,
      "metadata": {
        "id": "NeaMyULjdGL_",
        "outputId": "fd3bd933-b312-4d09-fe51-7cd8d8bd2e33"
      },
      "outputs": [
        {
          "data": {
            "text/plain": [
              "[10, 20, 4.5, 'Hello', 'bye', 500, 'Anita']"
            ]
          },
          "execution_count": 17,
          "metadata": {},
          "output_type": "execute_result"
        }
      ],
      "source": [
        "my_list2[2]=4.5   #modify data\n",
        "my_list2"
      ]
    },
    {
      "cell_type": "code",
      "execution_count": null,
      "metadata": {
        "id": "YosvXokedGL_"
      },
      "outputs": [],
      "source": [
        "my_list2.append(\"Anita\")"
      ]
    },
    {
      "cell_type": "code",
      "execution_count": null,
      "metadata": {
        "id": "lWsvJgabdGMA",
        "outputId": "a313a73c-435b-4584-9283-ca720fdc0c76"
      },
      "outputs": [
        {
          "data": {
            "text/plain": [
              "[10, 20, 4.5, 'Hello', 'bye', 500, 'Anita', 'Anita']"
            ]
          },
          "execution_count": 19,
          "metadata": {},
          "output_type": "execute_result"
        }
      ],
      "source": [
        "my_list2"
      ]
    },
    {
      "cell_type": "code",
      "execution_count": null,
      "metadata": {
        "id": "J8re3j-PdGMA",
        "outputId": "a123415b-37d9-43c5-d51e-7dc38cf630ee"
      },
      "outputs": [
        {
          "data": {
            "text/plain": [
              "2"
            ]
          },
          "execution_count": 20,
          "metadata": {},
          "output_type": "execute_result"
        }
      ],
      "source": [
        "my_list2.count('Anita')"
      ]
    },
    {
      "cell_type": "code",
      "execution_count": null,
      "metadata": {
        "id": "jMcQCIYDdGMA",
        "outputId": "10871af9-2011-44c6-de72-e4ca96cddc5f"
      },
      "outputs": [
        {
          "data": {
            "text/plain": [
              "1"
            ]
          },
          "execution_count": 21,
          "metadata": {},
          "output_type": "execute_result"
        }
      ],
      "source": [
        "my_list2.count('bye')"
      ]
    },
    {
      "cell_type": "code",
      "execution_count": null,
      "metadata": {
        "id": "5hJiyr_EdGMA",
        "outputId": "81113691-3667-4a88-fcb6-e3d4d586bded"
      },
      "outputs": [
        {
          "data": {
            "text/plain": [
              "2"
            ]
          },
          "execution_count": 25,
          "metadata": {},
          "output_type": "execute_result"
        }
      ],
      "source": [
        "my_list2.index(4.5)"
      ]
    },
    {
      "cell_type": "code",
      "execution_count": null,
      "metadata": {
        "id": "Al-gc-SAdGMB",
        "outputId": "ebd57ead-23ca-45af-c6fe-1cefff9531c2"
      },
      "outputs": [
        {
          "data": {
            "text/plain": [
              "6"
            ]
          },
          "execution_count": 26,
          "metadata": {},
          "output_type": "execute_result"
        }
      ],
      "source": [
        "my_list2.index('Anita')"
      ]
    },
    {
      "cell_type": "code",
      "execution_count": null,
      "metadata": {
        "id": "un7LW0xudGMB",
        "outputId": "0152198e-554e-446b-8ef4-69d038029ccc"
      },
      "outputs": [
        {
          "data": {
            "text/plain": [
              "'Anita'"
            ]
          },
          "execution_count": 27,
          "metadata": {},
          "output_type": "execute_result"
        }
      ],
      "source": [
        "my_list2.pop()"
      ]
    },
    {
      "cell_type": "code",
      "execution_count": null,
      "metadata": {
        "id": "sFQ0ZAVcdGMB",
        "outputId": "7fef50ee-0fda-4940-8cc1-4143610abc37"
      },
      "outputs": [
        {
          "data": {
            "text/plain": [
              "[10, 20, 4.5, 'Hello', 'bye', 500, 'Anita']"
            ]
          },
          "execution_count": 28,
          "metadata": {},
          "output_type": "execute_result"
        }
      ],
      "source": [
        "my_list2"
      ]
    },
    {
      "cell_type": "code",
      "execution_count": null,
      "metadata": {
        "id": "42YEi2zcdGMB"
      },
      "outputs": [],
      "source": [
        "my_list2.remove(4.5)"
      ]
    },
    {
      "cell_type": "code",
      "execution_count": null,
      "metadata": {
        "id": "4yrhlaKMdGMB",
        "outputId": "3be3311e-ad44-4cc9-cc27-edf2696d91c5"
      },
      "outputs": [
        {
          "data": {
            "text/plain": [
              "[10, 20, 'Hello', 'bye', 500, 'Anita']"
            ]
          },
          "execution_count": 30,
          "metadata": {},
          "output_type": "execute_result"
        }
      ],
      "source": [
        "my_list2\n"
      ]
    },
    {
      "cell_type": "code",
      "execution_count": null,
      "metadata": {
        "id": "yy9Qmd1rdGMC"
      },
      "outputs": [],
      "source": [
        "my_list2.append('Anita')"
      ]
    },
    {
      "cell_type": "code",
      "execution_count": null,
      "metadata": {
        "id": "wWOuS9jldGMC"
      },
      "outputs": [],
      "source": [
        "my_list2.append('Hello')"
      ]
    },
    {
      "cell_type": "code",
      "execution_count": null,
      "metadata": {
        "id": "8TzV4o4mdGMC",
        "outputId": "3845d52e-4ec2-4c82-ab0e-7f1c88aba5b7"
      },
      "outputs": [
        {
          "data": {
            "text/plain": [
              "[10, 20, 'Hello', 'bye', 500, 'Anita', 'Anita', 'Hello']"
            ]
          },
          "execution_count": 35,
          "metadata": {},
          "output_type": "execute_result"
        }
      ],
      "source": [
        "my_list2"
      ]
    },
    {
      "cell_type": "code",
      "execution_count": null,
      "metadata": {
        "id": "OJvMssBUdGMC"
      },
      "outputs": [],
      "source": [
        "my_list2.append('Hello')"
      ]
    },
    {
      "cell_type": "code",
      "execution_count": null,
      "metadata": {
        "id": "WBtzbT4tdGMC"
      },
      "outputs": [],
      "source": [
        "my_list2.insert(4,'pune')"
      ]
    },
    {
      "cell_type": "code",
      "execution_count": null,
      "metadata": {
        "id": "EodNGviWdGMC",
        "outputId": "37d31a78-c5ec-4b3b-a85b-be83b87a90c1"
      },
      "outputs": [
        {
          "data": {
            "text/plain": [
              "[10, 20, 'Hello', 'bye', 'pune', 500, 'Anita', 'Anita', 'Hello', 'Hello']"
            ]
          },
          "execution_count": 45,
          "metadata": {},
          "output_type": "execute_result"
        }
      ],
      "source": [
        "my_list2[::-1]"
      ]
    },
    {
      "cell_type": "code",
      "execution_count": null,
      "metadata": {
        "id": "BuQ88izXdGMD",
        "outputId": "3641aaec-f806-4ecb-d022-66363f495ff9"
      },
      "outputs": [
        {
          "data": {
            "text/plain": [
              "['Hello', 'Hello', 'Anita', 'Anita', 500, 'pune', 'bye', 'Hello', 20, 10]"
            ]
          },
          "execution_count": 46,
          "metadata": {},
          "output_type": "execute_result"
        }
      ],
      "source": [
        "my_list2"
      ]
    },
    {
      "cell_type": "code",
      "execution_count": null,
      "metadata": {
        "id": "2lFbNTFhdGMD"
      },
      "outputs": [],
      "source": [
        "my_list2.reverse()"
      ]
    },
    {
      "cell_type": "code",
      "execution_count": null,
      "metadata": {
        "id": "g9JXkQ4rdGMD",
        "outputId": "97d72ed0-8117-4fc6-9311-8a86e3831756"
      },
      "outputs": [
        {
          "data": {
            "text/plain": [
              "['Hello', 'Hello', 'Anita', 'Anita', 500, 'pune', 'bye', 'Hello', 20, 10]"
            ]
          },
          "execution_count": 49,
          "metadata": {},
          "output_type": "execute_result"
        }
      ],
      "source": [
        "my_list2"
      ]
    },
    {
      "cell_type": "code",
      "execution_count": null,
      "metadata": {
        "id": "XNSiy1PGdGMD"
      },
      "outputs": [],
      "source": [
        ""
      ]
    }
  ],
  "metadata": {
    "kernelspec": {
      "display_name": "Python 3",
      "language": "python",
      "name": "python3"
    },
    "language_info": {
      "codemirror_mode": {
        "name": "ipython",
        "version": 3
      },
      "file_extension": ".py",
      "mimetype": "text/x-python",
      "name": "python",
      "nbconvert_exporter": "python",
      "pygments_lexer": "ipython3",
      "version": "3.8.5"
    },
    "colab": {
      "name": "List.ipynb",
      "provenance": [],
      "collapsed_sections": []
    }
  },
  "nbformat": 4,
  "nbformat_minor": 0
}