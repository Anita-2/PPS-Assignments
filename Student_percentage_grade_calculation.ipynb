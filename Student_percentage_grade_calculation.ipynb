{
 "cells": [
  {
   "cell_type": "markdown",
   "id": "10a9eefd",
   "metadata": {},
   "source": [
    "# Students percentage and Grade Calculation"
   ]
  },
  {
   "cell_type": "code",
   "execution_count": null,
   "id": "92cd4b89",
   "metadata": {},
   "outputs": [],
   "source": [
    "#steps \n",
    "#1.Accept input from user as five subject Marks\n",
    "#2.Calculate percentage using formula.\n",
    "#3. Check the condition and accordingly print the message."
   ]
  },
  {
   "cell_type": "code",
   "execution_count": 3,
   "id": "603e9f51",
   "metadata": {},
   "outputs": [
    {
     "name": "stdout",
     "output_type": "stream",
     "text": [
      "Enter your marks (out of 100)\n",
      "Enter Maths Marks:67\n",
      "Enter Physics Marks: 87\n",
      "Enter Chemistry Marks:76\n",
      "Enter PPS marks :98\n",
      "Enter CPPS marks :80\n",
      "Total percentage=81%\n",
      "You have passed with Distinction\n"
     ]
    }
   ],
   "source": [
    "print(\"Enter your marks (out of 100)\")\n",
    "maths=int(input(\"Enter Maths Marks:\"))\n",
    "phy=int(input(\"Enter Physics Marks: \"))\n",
    "chem=int(input(\"Enter Chemistry Marks:\"))\n",
    "pps=int(input(\"Enter PPS marks :\"))\n",
    "cpps=int(input(\"Enter CPPS marks :\"))\n",
    "total = maths+phy+chem+pps+cpps;  \n",
    "per = (total*100)//500; \n",
    "print(\"Total percentage={}%\".format(per))\n",
    "if per>=75:\n",
    "    print(\"You have passed with Distinction\") \n",
    "elif per>=60 and per<75:\n",
    "    print(\"Your have passed with First Grade\")\n",
    "elif per>=50 and per<60:\n",
    "    print(\"Your have passed with Second Grade\")  \n",
    "elif per>=40 and per<50:\n",
    "    print(\"Your have passed with Third Grade\")\n",
    "elif per<40:\n",
    "    print(\"You are Failed\") \n",
    "else: \n",
    "    print(\"Wrong input\")\n",
    "    "
   ]
  }
 ],
 "metadata": {
  "kernelspec": {
   "display_name": "Python 3 (ipykernel)",
   "language": "python",
   "name": "python3"
  },
  "language_info": {
   "codemirror_mode": {
    "name": "ipython",
    "version": 3
   },
   "file_extension": ".py",
   "mimetype": "text/x-python",
   "name": "python",
   "nbconvert_exporter": "python",
   "pygments_lexer": "ipython3",
   "version": "3.9.12"
  }
 },
 "nbformat": 4,
 "nbformat_minor": 5
}
