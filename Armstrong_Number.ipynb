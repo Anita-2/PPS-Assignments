{
 "cells": [
  {
   "cell_type": "markdown",
   "id": "a246432d",
   "metadata": {},
   "source": [
    "# Python Program to check whether input number is Armstrong number or not?"
   ]
  },
  {
   "cell_type": "code",
   "execution_count": null,
   "id": "3881fc8d",
   "metadata": {},
   "outputs": [],
   "source": [
    "#Steps:\n",
    "#1. Accept the userinput(number) from user\n",
    "#2.assign that value to temp variable.\n",
    "#3. initialize sum to zero\n",
    "#4.We want to calculate sum of the cube of each digit, so for that we obtained each digit number by using (%) modulus operator.\n",
    "#5. After that we take cube of that digit and caculate sum.\n",
    "#6. We keep on doing this until num is greater than 0.\n",
    "#7. At end we compare the sum with the original number (temp)...if they equal we print number is armstrong else number is not armstrong.\n",
    "#Here we used //(Division) and % modulus operator for finding remainder and quotient."
   ]
  },
  {
   "cell_type": "code",
   "execution_count": 6,
   "id": "da9efdc0",
   "metadata": {},
   "outputs": [
    {
     "name": "stdout",
     "output_type": "stream",
     "text": [
      "Enter number to check whether it is armstrong or not?407\n",
      "number is armstrong\n"
     ]
    }
   ],
   "source": [
    "num=int(input(\"Enter number to check whether it is armstrong or not?\"))\n",
    "temp=num\n",
    "sum=0\n",
    "while num>0:\n",
    "    rem=num%10\n",
    "    num=num//10\n",
    "    sum=sum+rem*rem*rem\n",
    "if temp==sum:\n",
    "    print(\"number is armstrong\")\n",
    "else:\n",
    "    print(\"Number not armstrong\")\n"
   ]
  }
 ],
 "metadata": {
  "kernelspec": {
   "display_name": "Python 3 (ipykernel)",
   "language": "python",
   "name": "python3"
  },
  "language_info": {
   "codemirror_mode": {
    "name": "ipython",
    "version": 3
   },
   "file_extension": ".py",
   "mimetype": "text/x-python",
   "name": "python",
   "nbconvert_exporter": "python",
   "pygments_lexer": "ipython3",
   "version": "3.9.12"
  }
 },
 "nbformat": 4,
 "nbformat_minor": 5
}
